{
 "cells": [
  {
   "cell_type": "markdown",
   "metadata": {},
   "source": [
    "# Testing MultiSigBTC"
   ]
  },
  {
   "cell_type": "markdown",
   "metadata": {},
   "source": [
    "##### Some imports we need for the testing"
   ]
  },
  {
   "cell_type": "code",
   "execution_count": 1,
   "metadata": {
    "vscode": {
     "languageId": "bat"
    }
   },
   "outputs": [],
   "source": [
    "import json"
   ]
  },
  {
   "cell_type": "markdown",
   "metadata": {},
   "source": [
    "##### And some variable"
   ]
  },
  {
   "cell_type": "code",
   "execution_count": 75,
   "metadata": {
    "vscode": {
     "languageId": "bat"
    }
   },
   "outputs": [],
   "source": [
    "path_john = \"output\\\\john.json\"\n",
    "path_bob = \"output\\\\bob.json\"\n",
    "path_maria = \"output\\\\maria.json\"\n",
    "path_alice = \"output\\\\alice.json\"\n",
    "path_multisig_2_3 = \"output\\\\multisig-2-3.json\"\n",
    "path_multisig_2_3_transaction = \"output\\\\multisig-2-3-transaction.json\"\n",
    "path_multisig_2_2 = \"output\\\\multisig-2-2.json\"\n",
    "path_multisig_2_2_transaction = \"output\\\\multisig-2-2-transaction.json\"\n",
    "path_multisig_2_3_transact_2 = \"output\\\\multisig-2-3-transaction_2.json\""
   ]
  },
  {
   "cell_type": "markdown",
   "metadata": {},
   "source": [
    "### Update bitcoin.conf"
   ]
  },
  {
   "cell_type": "markdown",
   "metadata": {},
   "source": [
    "<p>Before continue, you need to run a bitcoin node in regtest and enable server in configuration.<br>\n",
    "To do so, we need to add the lines bellow in the bitcoin configuration (we use string 'admin' as the rpc use and its password)</p>"
   ]
  },
  {
   "cell_type": "markdown",
   "metadata": {},
   "source": [
    ">regtest=1<br>\n",
    ">server=1<br>\n",
    ">rpcuser=admin<br>\n",
    ">rpcpassword=admin<br>"
   ]
  },
  {
   "cell_type": "markdown",
   "metadata": {},
   "source": [
    "**/!\\\\** *After we update the configuration file, we must execute the command **bitcoind** in a terminal/command line before we continue with the test*"
   ]
  },
  {
   "cell_type": "markdown",
   "metadata": {},
   "source": [
    "## Prepare our regtest blockchain"
   ]
  },
  {
   "cell_type": "markdown",
   "metadata": {},
   "source": [
    "Let's create a wallet and mine some blocks to get some bitcoin flowing in our blockchain"
   ]
  },
  {
   "cell_type": "code",
   "execution_count": 3,
   "metadata": {
    "vscode": {
     "languageId": "bat"
    }
   },
   "outputs": [
    {
     "name": "stdout",
     "output_type": "stream",
     "text": [
      "{\n",
      "  \"name\": \"wallet\",\n",
      "  \"warning\": \"\"\n",
      "}\n"
     ]
    }
   ],
   "source": [
    "!bitcoin-cli createwallet wallet"
   ]
  },
  {
   "cell_type": "code",
   "execution_count": 4,
   "metadata": {
    "vscode": {
     "languageId": "bat"
    }
   },
   "outputs": [
    {
     "data": {
      "text/plain": [
       "'mju2L9JRZ2TLGo8Xrx96TzavzGrMahiazb'"
      ]
     },
     "execution_count": 4,
     "metadata": {},
     "output_type": "execute_result"
    }
   ],
   "source": [
    "miner = !bitcoin-cli getnewaddress address legacy\n",
    "miner = miner[0]\n",
    "miner"
   ]
  },
  {
   "cell_type": "code",
   "execution_count": 5,
   "metadata": {
    "vscode": {
     "languageId": "bat"
    }
   },
   "outputs": [
    {
     "name": "stdout",
     "output_type": "stream",
     "text": [
      "[\n",
      "  \"2956f93273e67d7945646b2b67935a7416a1f3ce89212f086c7b095f6d786faa\",\n",
      "  \"2a34c688240a3049f7107f0eee54463ec0d126daf30d4d1767b042a40e6304c8\",\n",
      "  \"1be952a07200b0541fc7543f5f550b887f59a25b56078ea6f8ec2830a4ca968b\",\n",
      "  \"12fac1552f5868da40cdf8071580b7a5845e2e9b97e3f3d56f64cfb191cd5f97\",\n",
      "  \"2212f98a86c289854fb2a7cdb502f9d5730e3bc33063c77e41d5fda633f9a91d\",\n",
      "  \"38803d9ddc0206f3a22f953e2fbf1ac79de553fb9c0870e1649473dcd107c148\",\n",
      "  \"3bdd4e7e8761ef4051a765f658cdf6de9b73bb1af83fad516fa3f061af8450ce\",\n",
      "  \"5dfbc73d04ff415b777e736df9329f4a18e99a269b51d9a9635c088fc5c0f111\",\n",
      "  \"482ca06f893260625ac291224a6e180ff64488dc398d881cca13772cae2a088d\",\n",
      "  \"1168ba07ff6d6ad4d34ee01008dd9a03799cf6b30f4e1698edd727604c2746c4\",\n",
      "  \"2c30c0147382b6a9e289e814d2853def15ff55689ea18ecebe44ad8ed0b484e1\",\n",
      "  \"14bbc5141b3be6323c68f161cbcf9746143a4eeb44642e27e604c9712bf0ffa8\",\n",
      "  \"600afbd17bab5876321bae1954ddfefb89aaac7c08885b6d3fed1db981f615e3\",\n",
      "  \"2826bef6b37c6fd5b90f6ab5b65b6859e31579b1bd6ec1ee7fb0465a087833a3\",\n",
      "  \"79e3adda2184f2904acac22bc18342ccdc40d1b205441170a365c1e3386a9500\",\n",
      "  \"76d44bbfd79150054125a07b7c7f6ecb247479a1232b08001f4fcfe808e93100\",\n",
      "  \"31c75af3a32b7c405ce7cfed4d715e327ba16dd5bdbe026c439775e93032a6a6\",\n",
      "  \"28df8c825f038e404808337ff8f706f3867dc1d6ac9f62459b22217f67d929de\",\n",
      "  \"42896e1a9a5a342429e7963f2a2e777012e4035ac276c357a767b717d8b95da5\",\n",
      "  \"3467a1da512f1dca174445b06786e93ee98b13362ab029776f13f08a237cec6b\",\n",
      "  \"59b9866fe21779f2a9fc772d28779bc1d19301ca10d0f3483383d4ebca6e0f95\",\n",
      "  \"66caec111cabb3d74ccc6cac0904a88bfb72e7b429dd0e0eb2c8f4d11d8ba293\",\n",
      "  \"1529f502f0988269885de04978053a7cacbc083ff72b69b785496251caf5ea85\",\n",
      "  \"5aeb11a3b95a1b47b207055c5a807de132064aec1cf8e584303a3e467a05146b\",\n",
      "  \"0ec78bf2c6d125dbf68686bee2840231e5cd064cccb0d8b505e706586d61d6dd\",\n",
      "  \"02ab5987862d956f3c80542d337adbab4cf32972bf0a954231eae83cae2034ac\",\n",
      "  \"5737fbf280298cd9a88c1c47f70c44b151f8ec11cb385972a22a32d24e8d009c\",\n",
      "  \"3f596d70c23a9a57b5109d6f66beb1680e025c927a102a3397312a018082bd5c\",\n",
      "  \"12ba3a28523749a61f5e222ea4e6100e5f3016f2d27dad9a96936a28d132b638\",\n",
      "  \"537e93b5b36f154366563fce72ebda4f785716516b0402fb5228710e0ce7ef45\",\n",
      "  \"565feb37b898f2dbb6fa5de33fe0fbc5a40e5fe24ab6f7424738ef278bc374a2\",\n",
      "  \"61ad76a13aafe6ac8bc0feafe0b037189f2b955da194d652220dcb1e0a747a3b\",\n",
      "  \"3deaee470857fba2e3189c58d705db7d1a89599a9390c17be539c2559022bcb0\",\n",
      "  \"2083e18ee82aca4cd5be77caf4f8dc03ae642aa011496f46ed3d0dc634f0a262\",\n",
      "  \"4dde52e48b47c9bdf7ab36c9a63780c85f316fecc78d7b92f192f74fe0c81d79\",\n",
      "  \"11b66629cb6bd00daef67a104831e6c8197b093ff38869b0da8da624be8fcff2\",\n",
      "  \"43ef7430df1ff3ea5cc19c4c9a857dfa72c3429d21f148877dbc3cf795c15ff4\",\n",
      "  \"521d60f2e2f232bb95fd0fc1b8152220d8cca8d56578bc6c1c3137c4bf20a10e\",\n",
      "  \"2f21f2a867ad516fca4c92890c9de5863868a952724e025b35f11de57005cc87\",\n",
      "  \"24bff64a7b946c0dfda34e6fda9c56b46573c7a5d5d25814299a68f01a11c4f3\",\n",
      "  \"49849302b561a2a9be7d5c211c03bf4c58b23670c197fb3fd567bf7973445ff6\",\n",
      "  \"099b00bd4e5203ce0dc773b5ba91de56370820fbcacfaf52d87b27ea8780ca62\",\n",
      "  \"5bcc6c242e02198d6e00bb1aa517ab0ce59c3e1436b13a7a0b91aa268abe81bc\",\n",
      "  \"622a53b4ccb765fa8ff81ba4948a45264fc374ee6bff82403467cd79e7408615\",\n",
      "  \"39280c44d38bcb6ea9fccd8c95db37b7844b5d7720193631f54d4963a96c425a\",\n",
      "  \"1034d46ab1f2406ea102299cd594f7806548e5a1825523176071d1247d49344c\",\n",
      "  \"7705971cb494bbef8a5dbf8a97bdd73699ea5689aeafaa6f4209ec5edf495bea\",\n",
      "  \"38429e1695e150fb151b9b6f35bcc028ad277ce5c903a85c9a5ce30c34be9b43\",\n",
      "  \"5b6b843faf56275d13475cd34f05edc121aacf81e3cdb9ac7fd491e3199e9f76\",\n",
      "  \"732dcee95e496fc65b76eb5162f8239c43f34ca6e38ca0a8b173314be4be2744\",\n",
      "  \"5f78b61121a1ed44608385ed321a4f0cec4deed3fe001f639c002074d0312029\",\n",
      "  \"6e9d194073b9261d98d5cc2a67f10d03b3716248ba83ae427bc74d6563e80fc3\",\n",
      "  \"38f9c608e0a843ef0c1e3dcc3d492700ec718c0f5d7c79d01bfa279c34737369\",\n",
      "  \"0098af89a5cf8cb67462f56c716a5d54e88562390d71db54e84e5bd2537eb60d\",\n",
      "  \"25104af3e4f7ddf2540fc3820414200703935aa294ca8cfa816c8836f0c617bb\",\n",
      "  \"71fa5e1c5fc5aeb5a9a91c4f4a28d684acc8b3f2bff1bbab72f7da555c6945b4\",\n",
      "  \"36b60c1eedecb1af4e4c30034f34d0cd44411726c292b040580e4085894fa784\",\n",
      "  \"61731b4bb536201f830cf35aa5b4caadfa9b4f57c9c5ba72cdb34cbb4c250088\",\n",
      "  \"410cbdff18be829bedb6d45a3cba02c81b8a42ef4bd1905f22583a4dec55a889\",\n",
      "  \"6592fd354e3eb208f397cd86e851ad89313a0e69b04dc6331d7750e48a23fc5a\",\n",
      "  \"52242ddb7e6c67d07b0d14fd32b684d08403be612136e2fa5c09b51491c66e21\",\n",
      "  \"6fce898851cd3321f6ec704352d2f2fa35f744b8209ddcf69bc8696125bb2bc7\",\n",
      "  \"7b617c7702ed2f398b031a12539c8435c811c0c2a1273a270d4a1389b3496f9e\",\n",
      "  \"556533b9a0ad90e41fe4d5e782e826fa8030055d8f2b9e2f04020ed35c8ff602\",\n",
      "  \"588ec200dc1b96f045fbd3af069780db3ff2d758d42cabda4d89c881ee064d35\",\n",
      "  \"66937ec6678a5d7658f24747ee4c089c406ce7c95e1190099e5c3a2b21c83a78\",\n",
      "  \"29caa2d787a6a451a67fbd0e3a4c9c7b7e0dacdd9a60f05380da4fde67780b3b\",\n",
      "  \"4680f6a41a136f1eb34f4bef902ae5d7a3c571bf4c3745c77604fbde7c0bc774\",\n",
      "  \"2581a105b6d5c4f125466f7e88048a81cf4cb9ce144fa898c66e712be06944da\",\n",
      "  \"4c925a8c6a30552adfa8cf907c47c6f152942c9707bce3a5af8725205d154051\",\n",
      "  \"2dffe55be82911f20f1e35f76f4383cc312b31e28af8d3c660796350634dcf7d\",\n",
      "  \"26d066a654010990ba44ff7b4004e97ccfd975e262b126aa4e245a1154b2039b\",\n",
      "  \"7576eb80c27c0c97d158077ab6a7468cc5fc3f37146b7a2d658ca9045d81aca5\",\n",
      "  \"53eb9c482c4c9c8098150da6d8963e6faa8c7ffcb9ccd72137c012e2277e1a94\",\n",
      "  \"2203937de36697e561af16bc2a303c02dc76a61c049aad1cff059032c6f54844\",\n",
      "  \"5cda6b015efaf64c90c8e90d536a6dee9067a5148849ecff83b1a2b9a7506e0e\",\n",
      "  \"73c8efadf0ce963a32cb7b99a008f5969bd304af867bda3ba27f1010e5b63aef\",\n",
      "  \"16e5428e047f8e4ca388c933f25ac9694ae57e2eaf19319c7cd382e301869afe\",\n",
      "  \"1a1ca1c7dfd00b5286f4cfb83188810ebf4892540b60c9b694747316c8919915\",\n",
      "  \"0fdc8934239faf4ecbcc32c1df4eb462084cd67b571eb3c1ae2d671eff919212\",\n",
      "  \"21e3a031908d7f11dd6640ba31d7fb6fceff5c6076b3afb42be5963cdde534cb\",\n",
      "  \"7a91a0fce2044e788faa257cf0aba7aa06e5bde24620b5f9a1abab679dd6d32c\",\n",
      "  \"5ed77fac16c55861ee44f42bd3a7b20a298013beeabdef52f62585c94b4cdbf0\",\n",
      "  \"01daf403b6c6056feec2a34c13e911ed6e4f2a9b947a2c03c535f5c7e08a89fd\",\n",
      "  \"358c7e2425f13227312c0515d528d56f7214ce83153332b75c934aaf54a716c8\",\n",
      "  \"7ff720195289c041ecd2322f13aee470f708e75233247efb2677b7776ac581e8\",\n",
      "  \"70313d36040fd80ae4e6a5659c0091932f7468febb7cfb17434ffa159857ee65\",\n",
      "  \"57b59e6b2c61a1b90f67ce7a25904b2c1a3e66a175ad05df95b4921b785ef8ca\",\n",
      "  \"63dba436a490652a42fbe45a07661686b2fb4a58b6ff3cfd8f78a12476f944be\",\n",
      "  \"1341069c6feb3e76aef06cf2127c133237fa779a0433c777d488a8d995c110f9\",\n",
      "  \"4ab0896aa11890b0a22a060d16b3be866845356888f4afeb8de454eb5efd42cc\",\n",
      "  \"0e1c2d68242982daf38ba2dcd0b89c108b91b08728813ad1581582d0acca336c\",\n",
      "  \"3171ab6d2e542e2d26fb7c2ae1ee497c8d51db17f5ed3e907ee0fc3736fd2c8f\",\n",
      "  \"604f2017a6ac3f7a20a99684c4dbd7453f2613d60097e3a43fc48ef3d2ab74b2\",\n",
      "  \"39b5df71c9ee703bfe665fe57168364eba5e15f9d96406e3278ef344e02c17cf\",\n",
      "  \"58a51171d4c5ddb9d5fcfddca2f7caec47712483b4d2f32fa2579eee686fd840\",\n",
      "  \"1b2904cd4b235dbc97dbfeef5f493e74818821556a864e1de579fa4e76f1888d\",\n",
      "  \"0fb33e0104bd654734558a818bdb6cd872479431ef01f084d846e81df3c44795\",\n",
      "  \"4ca1bd5b300a1dc7299c572fd2b781996f5d0807d63fed65f3ca4af0352a0269\",\n",
      "  \"34f992bff268af7f1d2457f4f6adf75d688c9a2cb1836968e61e38cf31fdfa34\",\n",
      "  \"629f6dcab4b188f2888aa826c2cf49a361b5f4748110ef07b76a659e6368915c\"\n",
      "]\n"
     ]
    }
   ],
   "source": [
    "!bitcoin-cli generatetoaddress 101 {miner}"
   ]
  },
  {
   "cell_type": "code",
   "execution_count": 6,
   "metadata": {
    "vscode": {
     "languageId": "bat"
    }
   },
   "outputs": [
    {
     "name": "stdout",
     "output_type": "stream",
     "text": [
      "[\n",
      "  [\n",
      "    [\n",
      "      \"mju2L9JRZ2TLGo8Xrx96TzavzGrMahiazb\",\n",
      "      50.00000000,\n",
      "      \"address\"\n",
      "    ]\n",
      "  ]\n",
      "]\n"
     ]
    }
   ],
   "source": [
    "!bitcoin-cli listaddressgroupings"
   ]
  },
  {
   "cell_type": "markdown",
   "metadata": {},
   "source": [
    "Ok so we created a wallet and an address and mined 101 blocks in order to get some funds in our address to work with (miner reward is locked for 100 blocks)"
   ]
  },
  {
   "cell_type": "markdown",
   "metadata": {},
   "source": [
    "## Create some private-public key pairs to work with"
   ]
  },
  {
   "cell_type": "markdown",
   "metadata": {},
   "source": [
    "##### John's Keys"
   ]
  },
  {
   "cell_type": "code",
   "execution_count": 7,
   "metadata": {
    "vscode": {
     "languageId": "bat"
    }
   },
   "outputs": [
    {
     "data": {
      "text/plain": [
       "{'address': 'mwiL5k3NeRCPAe2c5LDNZKESMNTsxT3qS7',\n",
       " 'keys': {'name': 'John',\n",
       "  'private': 'yUQyOn/lVvxBUZ7+jSGIIANKbiHcN/ZFskSKIssYFGnzGij1ltgjCEt1Dg8iDZ9NNqi4fq7GRfYAPe1MkBETzanjyRfop8ZdFMXnj1anQoe5z3UNIarYnT0km/bgpTogUeJ/xS4vlq4=',\n",
       "  'public': '030a10de3e8ea718246cc79424d0f27fe7ec193e8949662a5cff75a23f49a6094c'},\n",
       " 'type': 'P2PKH'}"
      ]
     },
     "execution_count": 7,
     "metadata": {},
     "output_type": "execute_result"
    }
   ],
   "source": [
    "result = !python.exe MultiSigBTC.py -o {path_john} create_new_address \"John\" \"pass\" -s \"john\"\n",
    "#Store some values we will use later :\n",
    "result = ''.join([str(elem) for elem in result]).replace(\"'\",'\"')\n",
    "result = json.loads(result)\n",
    "john = result['address']\n",
    "result"
   ]
  },
  {
   "cell_type": "markdown",
   "metadata": {},
   "source": [
    "##### Bob's Keys"
   ]
  },
  {
   "cell_type": "code",
   "execution_count": 8,
   "metadata": {
    "vscode": {
     "languageId": "bat"
    }
   },
   "outputs": [
    {
     "name": "stdout",
     "output_type": "stream",
     "text": [
      "{'address': 'msXtCoKiBft566TaYP9xjMAbRe1dPdSrSj',\n",
      " 'keys': {'name': 'Bob',\n",
      "          'private': 'PZRZJ9dWGYyqMGv7kMIn39GOVpm1dDQa8mfnj1AqrhnJTSzSm5nWmzLr0ralDSkHRt1D8sd5DTjWF5u0qZiYjrC4EhDKVT0hP6c5ml2z32I/cu7Kx/KeJj5DJVq6uXnOm2B084I6nls=',\n",
      "          'public': '026f7a4f6fcf1ae8aa25e1227cb9b67aa462edc47e956d7d3d7dbe899e09484e4c'},\n",
      " 'type': 'P2PKH'}\n"
     ]
    }
   ],
   "source": [
    "!python.exe MultiSigBTC.py -o {path_bob} create_new_address \"Bob\" \"pass\" -s \"bob\""
   ]
  },
  {
   "cell_type": "markdown",
   "metadata": {},
   "source": [
    "##### Maria's Keys"
   ]
  },
  {
   "cell_type": "code",
   "execution_count": 9,
   "metadata": {
    "vscode": {
     "languageId": "bat"
    }
   },
   "outputs": [
    {
     "name": "stdout",
     "output_type": "stream",
     "text": [
      "{'address': 'mpRRNUdNSXYnK8enrzZzqzURGp8SqQfpPF',\n",
      " 'keys': {'name': 'Maria',\n",
      "          'private': 'ufNMY5Pb0m6ey+vX4+YG8nnyefAaYVdMagCmkMfxDbNxHHc1LnfwGMnFlxfiQb/QYau4Uxs/56fr0fVbLJurkCiMRbpgtRlh4PCd+nvGRpvK4Wzys224rDcEi1oUeyGl2qAhKRGz6/E=',\n",
      "          'public': '02b6ec4ee5a73f82c69ac37cb27e8212cd0fef3e48768c7ca71ef3b82b344510bf'},\n",
      " 'type': 'P2PKH'}\n"
     ]
    }
   ],
   "source": [
    "!python.exe MultiSigBTC.py -o {path_maria} create_new_address \"Maria\" \"pass\" -s \"maria\""
   ]
  },
  {
   "cell_type": "markdown",
   "metadata": {},
   "source": [
    "##### Alice's Keys"
   ]
  },
  {
   "cell_type": "code",
   "execution_count": 10,
   "metadata": {
    "vscode": {
     "languageId": "bat"
    }
   },
   "outputs": [
    {
     "name": "stdout",
     "output_type": "stream",
     "text": [
      "{'address': 'mkuWPd28Qn2R2mBUtDxbikYCxALKJujDoq',\n",
      " 'keys': {'name': 'Alice',\n",
      "          'private': '/uI8j7Q5reugnGGg327RVGc0rTNAt09Y8sGqBMYw+yi3vPIfL5IJ1nPZG43HMhVK9qZ0qXo6IUZjrIcx7lcOTuY8rfnZs2b5YdS/mnPwiCh7Bmyt12/f+4GXCjFsrsOKFYWkAcHTkhM=',\n",
      "          'public': '039dabdd38f7eb2eff0dd7d8fadac724fa7f0330d03c267c0a6a7958143c49babc'},\n",
      " 'type': 'P2PKH'}\n"
     ]
    }
   ],
   "source": [
    "!python.exe MultiSigBTC.py -o {path_alice} create_new_address \"Alice\" \"pass\" -s \"alice\""
   ]
  },
  {
   "cell_type": "markdown",
   "metadata": {},
   "source": [
    "## Create a 2 out of 3 Multi Signature Address"
   ]
  },
  {
   "cell_type": "code",
   "execution_count": 11,
   "metadata": {
    "vscode": {
     "languageId": "bat"
    }
   },
   "outputs": [
    {
     "data": {
      "text/plain": [
       "{'address': '2N8ZjuyrxVVHNDfLUKAQshJ4g2bvNkCMaeE',\n",
       " 'keys': [{'name': 'John',\n",
       "   'private': '',\n",
       "   'public': '030a10de3e8ea718246cc79424d0f27fe7ec193e8949662a5cff75a23f49a6094c'},\n",
       "  {'name': 'Bob',\n",
       "   'private': '',\n",
       "   'public': '026f7a4f6fcf1ae8aa25e1227cb9b67aa462edc47e956d7d3d7dbe899e09484e4c'},\n",
       "  {'name': 'Alice',\n",
       "   'private': '',\n",
       "   'public': '039dabdd38f7eb2eff0dd7d8fadac724fa7f0330d03c267c0a6a7958143c49babc'}],\n",
       " 'script': [2,\n",
       "  '030a10de3e8ea718246cc79424d0f27fe7ec193e8949662a5cff75a23f49a6094c',\n",
       "  '026f7a4f6fcf1ae8aa25e1227cb9b67aa462edc47e956d7d3d7dbe899e09484e4c',\n",
       "  '039dabdd38f7eb2eff0dd7d8fadac724fa7f0330d03c267c0a6a7958143c49babc',\n",
       "  3,\n",
       "  'OP_CHECKMULTISIG'],\n",
       " 'signatures_required': 2,\n",
       " 'type': 'multisig_address'}"
      ]
     },
     "execution_count": 11,
     "metadata": {},
     "output_type": "execute_result"
    }
   ],
   "source": [
    "result = !python MultiSigBTC.py -o {path_multisig_2_3} create_multisig_address 2 {path_john} {path_bob} {path_alice}\n",
    "#Store some values we will use later :\n",
    "result = ''.join([str(elem) for elem in result]).replace(\"'\",'\"').replace(\"None\",'\"\"')\n",
    "result = json.loads(result)\n",
    "multisig_2_3 = result['address']\n",
    "result"
   ]
  },
  {
   "cell_type": "markdown",
   "metadata": {},
   "source": [
    "Now we have our 2 out of 3 multi signature address."
   ]
  },
  {
   "cell_type": "markdown",
   "metadata": {},
   "source": [
    "### Send some funds to the newly created multi signature address"
   ]
  },
  {
   "cell_type": "code",
   "execution_count": 12,
   "metadata": {
    "vscode": {
     "languageId": "bat"
    }
   },
   "outputs": [
    {
     "name": "stdout",
     "output_type": "stream",
     "text": [
      "143c86821894b07ef09f8bb1e78f6f32591889ecf6dce35294245fed05738cb8\n"
     ]
    }
   ],
   "source": [
    "!bitcoin-cli sendtoaddress {multisig_2_3} 1"
   ]
  },
  {
   "cell_type": "code",
   "execution_count": 13,
   "metadata": {
    "vscode": {
     "languageId": "bat"
    }
   },
   "outputs": [
    {
     "name": "stdout",
     "output_type": "stream",
     "text": [
      "c634a02a841e1f4ac40b2f425d9d1a68048e59ff6362c89981305230356e56b0\n"
     ]
    }
   ],
   "source": [
    "!bitcoin-cli sendtoaddress {multisig_2_3} 0.3"
   ]
  },
  {
   "cell_type": "code",
   "execution_count": 14,
   "metadata": {
    "vscode": {
     "languageId": "bat"
    }
   },
   "outputs": [
    {
     "name": "stdout",
     "output_type": "stream",
     "text": [
      "6c310433485947f1278ccdbcdc19db7b60f094a3c87273140f25c9862c9e7f71\n"
     ]
    }
   ],
   "source": [
    "!bitcoin-cli sendtoaddress {multisig_2_3} 1.1"
   ]
  },
  {
   "cell_type": "code",
   "execution_count": 15,
   "metadata": {
    "vscode": {
     "languageId": "bat"
    }
   },
   "outputs": [
    {
     "name": "stdout",
     "output_type": "stream",
     "text": [
      "650c996274cf200a0845b97cd2b665031010198cbd58ba4842e5ea5251f6c238\n"
     ]
    }
   ],
   "source": [
    "!bitcoin-cli sendtoaddress {multisig_2_3} 5"
   ]
  },
  {
   "cell_type": "code",
   "execution_count": 16,
   "metadata": {
    "vscode": {
     "languageId": "bat"
    }
   },
   "outputs": [
    {
     "name": "stdout",
     "output_type": "stream",
     "text": [
      "[\n",
      "  \"050119016316acb5e0499a0fe83fc602342b887abc5f4a6ea3df0fcfc99b8761\"\n",
      "]\n"
     ]
    }
   ],
   "source": [
    "!bitcoin-cli generatetoaddress 1 {miner}"
   ]
  },
  {
   "cell_type": "code",
   "execution_count": 17,
   "metadata": {
    "vscode": {
     "languageId": "bat"
    }
   },
   "outputs": [
    {
     "name": "stdout",
     "output_type": "stream",
     "text": [
      "76d239530a434d69c037de5ad8dbab8564254105b98408f63bb4c82f777886d6\n"
     ]
    }
   ],
   "source": [
    "!bitcoin-cli sendtoaddress {multisig_2_3} 52"
   ]
  },
  {
   "cell_type": "code",
   "execution_count": 18,
   "metadata": {
    "vscode": {
     "languageId": "bat"
    }
   },
   "outputs": [
    {
     "name": "stdout",
     "output_type": "stream",
     "text": [
      "[\n",
      "  \"0186b9e0361a13aef92df40537a93efb86704fc6e6c0cbb93985457789786f23\"\n",
      "]\n"
     ]
    }
   ],
   "source": [
    "!bitcoin-cli generatetoaddress 1 {miner}"
   ]
  },
  {
   "cell_type": "markdown",
   "metadata": {},
   "source": [
    "To make it a little more challenging for our script (MultiSigBTC.py), we send multiple transactions in order for our multi signature address to own multiple UTXOs"
   ]
  },
  {
   "cell_type": "markdown",
   "metadata": {},
   "source": [
    "### Let's check the balance of our address now"
   ]
  },
  {
   "cell_type": "code",
   "execution_count": 19,
   "metadata": {
    "vscode": {
     "languageId": "bat"
    }
   },
   "outputs": [
    {
     "name": "stdout",
     "output_type": "stream",
     "text": [
      "{'UTXOs': [{'amount': 52.0,\n",
      "            'txid': '76d239530a434d69c037de5ad8dbab8564254105b98408f63bb4c82f777886d6',\n",
      "            'vout': 1},\n",
      "           {'amount': 5.0,\n",
      "            'txid': '650c996274cf200a0845b97cd2b665031010198cbd58ba4842e5ea5251f6c238',\n",
      "            'vout': 1},\n",
      "           {'amount': 1.1,\n",
      "            'txid': '6c310433485947f1278ccdbcdc19db7b60f094a3c87273140f25c9862c9e7f71',\n",
      "            'vout': 1},\n",
      "           {'amount': 1.0,\n",
      "            'txid': '143c86821894b07ef09f8bb1e78f6f32591889ecf6dce35294245fed05738cb8',\n",
      "            'vout': 0},\n",
      "           {'amount': 0.3,\n",
      "            'txid': 'c634a02a841e1f4ac40b2f425d9d1a68048e59ff6362c89981305230356e56b0',\n",
      "            'vout': 1}],\n",
      " 'balance': 59.4,\n",
      " 'type': 'balance'}\n"
     ]
    }
   ],
   "source": [
    "!python MultiSigBTC.py -u \"admin\" -p \"admin\" get_address_balance {path_multisig_2_3}"
   ]
  },
  {
   "cell_type": "markdown",
   "metadata": {},
   "source": [
    "### Now that we have some funds, let's create a transaction"
   ]
  },
  {
   "cell_type": "markdown",
   "metadata": {},
   "source": [
    "We will try to send 58 BTC to John's address in order to control alone those 58 BTC, with his keys"
   ]
  },
  {
   "cell_type": "code",
   "execution_count": 20,
   "metadata": {
    "vscode": {
     "languageId": "bat"
    }
   },
   "outputs": [
    {
     "name": "stdout",
     "output_type": "stream",
     "text": [
      "{'keys': [{'name': 'John',\n",
      "           'private': None,\n",
      "           'public': '030a10de3e8ea718246cc79424d0f27fe7ec193e8949662a5cff75a23f49a6094c'},\n",
      "          {'name': 'Bob',\n",
      "           'private': None,\n",
      "           'public': '026f7a4f6fcf1ae8aa25e1227cb9b67aa462edc47e956d7d3d7dbe899e09484e4c'},\n",
      "          {'name': 'Alice',\n",
      "           'private': None,\n",
      "           'public': '039dabdd38f7eb2eff0dd7d8fadac724fa7f0330d03c267c0a6a7958143c49babc'}],\n",
      " 'script': [2,\n",
      "            '030a10de3e8ea718246cc79424d0f27fe7ec193e8949662a5cff75a23f49a6094c',\n",
      "            '026f7a4f6fcf1ae8aa25e1227cb9b67aa462edc47e956d7d3d7dbe899e09484e4c',\n",
      "            '039dabdd38f7eb2eff0dd7d8fadac724fa7f0330d03c267c0a6a7958143c49babc',\n",
      "            3,\n",
      "            'OP_CHECKMULTISIG'],\n",
      " 'signatures_required': 2,\n",
      " 'type': 'multisig_transaction',\n",
      " 'unsigned_transaction': '0200000003d68678772fc8b43bf60884b90541256485abdbd85ade37c0694d430a5339d2760100000000ffffffff38c2f65152eae54248ba58bd8c1910100365b6d27cb945080a20cf7462990c650100000000ffffffff717f9e2c86c9250f147372c8a394f0607bdb19dcbccd8c27f14759483304316c0100000000ffffffff0200fab459010000001976a914b1a8c68e4f90bd199c16841215a7b3b4e77aa21988ac405489000000000017a914a80a5ad975825e6ea42dbd841a26c753851810d58700000000'}\n"
     ]
    }
   ],
   "source": [
    "!python MultiSigBTC.py -u \"admin\" -p \"admin\" -o {path_multisig_2_3_transaction} create_multisig_transaction {john} 58 0.01 {path_multisig_2_3}"
   ]
  },
  {
   "cell_type": "markdown",
   "metadata": {},
   "source": [
    "### Let's try to sign the transaction two of the owners"
   ]
  },
  {
   "cell_type": "code",
   "execution_count": 21,
   "metadata": {
    "vscode": {
     "languageId": "bat"
    }
   },
   "outputs": [
    {
     "name": "stdout",
     "output_type": "stream",
     "text": [
      "{'keys': [{'name': 'John',\n",
      "           'private': None,\n",
      "           'public': '030a10de3e8ea718246cc79424d0f27fe7ec193e8949662a5cff75a23f49a6094c'},\n",
      "          {'name': 'Bob',\n",
      "           'private': None,\n",
      "           'public': '026f7a4f6fcf1ae8aa25e1227cb9b67aa462edc47e956d7d3d7dbe899e09484e4c'},\n",
      "          {'name': 'Alice',\n",
      "           'private': None,\n",
      "           'public': '039dabdd38f7eb2eff0dd7d8fadac724fa7f0330d03c267c0a6a7958143c49babc'}],\n",
      " 'script': [2,\n",
      "            '030a10de3e8ea718246cc79424d0f27fe7ec193e8949662a5cff75a23f49a6094c',\n",
      "            '026f7a4f6fcf1ae8aa25e1227cb9b67aa462edc47e956d7d3d7dbe899e09484e4c',\n",
      "            '039dabdd38f7eb2eff0dd7d8fadac724fa7f0330d03c267c0a6a7958143c49babc',\n",
      "            3,\n",
      "            'OP_CHECKMULTISIG'],\n",
      " 'signatures': {'650c996274cf200a0845b97cd2b665031010198cbd58ba4842e5ea5251f6c238': [{'name': 'Bob',\n",
      "                                                                                      'signature': '304402206cecee069846f099f95645a26421193932347780cd9768e7409115917e2fe217022046a3d781e10355519a89e750f16cb1df01ce10a5be3e4c943db73c6054bcebdc01'}],\n",
      "                '6c310433485947f1278ccdbcdc19db7b60f094a3c87273140f25c9862c9e7f71': [{'name': 'Bob',\n",
      "                                                                                      'signature': '3045022100cee831d6cf9bbf485b56977d51c334a357ba51c1095b7e3c3f47f6a2b739c20402204ac4c52961edfa1ef9e069181b7b74214fcc8f704c61bf4447d4f6d8676d867701'}],\n",
      "                '76d239530a434d69c037de5ad8dbab8564254105b98408f63bb4c82f777886d6': [{'name': 'Bob',\n",
      "                                                                                      'signature': '30450221008da1faa1573feffc82bee0b50a092b01f65f7db5b388d9df526d5fa2813566a6022006a5b734cf27eceeaf61dee0d33ccac687e5aa2432b84a93819ab31edb9d988501'}]},\n",
      " 'signatures_required': 2,\n",
      " 'type': 'multisig_transaction',\n",
      " 'unsigned_transaction': '0200000003d68678772fc8b43bf60884b90541256485abdbd85ade37c0694d430a5339d2760100000000ffffffff38c2f65152eae54248ba58bd8c1910100365b6d27cb945080a20cf7462990c650100000000ffffffff717f9e2c86c9250f147372c8a394f0607bdb19dcbccd8c27f14759483304316c0100000000ffffffff0200fab459010000001976a914b1a8c68e4f90bd199c16841215a7b3b4e77aa21988ac405489000000000017a914a80a5ad975825e6ea42dbd841a26c753851810d58700000000'}\n"
     ]
    }
   ],
   "source": [
    "!python MultiSigBTC.py -o {path_multisig_2_3_transaction} sign_multisig_transaction {path_multisig_2_3_transaction} {path_bob} \"pass\""
   ]
  },
  {
   "cell_type": "markdown",
   "metadata": {},
   "source": [
    "##### But what will happen if we try to send the transaction partially signed? Let's try it, why not..."
   ]
  },
  {
   "cell_type": "code",
   "execution_count": 22,
   "metadata": {
    "vscode": {
     "languageId": "bat"
    }
   },
   "outputs": [
    {
     "name": "stdout",
     "output_type": "stream",
     "text": [
      "{'exception': {'message': 'The transaction contains only 1 out of 2 signatures '\n",
      "                          'required',\n",
      "               'type': 'Exception'},\n",
      " 'trace': [{'line': 192, 'name': '<module>'},\n",
      "           {'line': 268, 'name': 'createdSignedTransaction'}],\n",
      " 'type': 'exception'}\n"
     ]
    }
   ],
   "source": [
    "!python MultiSigBTC.py get_signed_multisig_transaction {path_multisig_2_3_transaction}"
   ]
  },
  {
   "cell_type": "markdown",
   "metadata": {},
   "source": [
    "Ah yes I forgot about that, I have implemented a exemption when someone tries to get the signed transaction without having enough signatures... Ok I guess we will not send a partially signed transaction to the network :D"
   ]
  },
  {
   "cell_type": "markdown",
   "metadata": {},
   "source": [
    "##### Ok let's sign the transaction also with Johns keys then"
   ]
  },
  {
   "cell_type": "code",
   "execution_count": 23,
   "metadata": {
    "vscode": {
     "languageId": "bat"
    }
   },
   "outputs": [
    {
     "name": "stdout",
     "output_type": "stream",
     "text": [
      "{'keys': [{'name': 'John',\n",
      "           'private': None,\n",
      "           'public': '030a10de3e8ea718246cc79424d0f27fe7ec193e8949662a5cff75a23f49a6094c'},\n",
      "          {'name': 'Bob',\n",
      "           'private': None,\n",
      "           'public': '026f7a4f6fcf1ae8aa25e1227cb9b67aa462edc47e956d7d3d7dbe899e09484e4c'},\n",
      "          {'name': 'Alice',\n",
      "           'private': None,\n",
      "           'public': '039dabdd38f7eb2eff0dd7d8fadac724fa7f0330d03c267c0a6a7958143c49babc'}],\n",
      " 'script': [2,\n",
      "            '030a10de3e8ea718246cc79424d0f27fe7ec193e8949662a5cff75a23f49a6094c',\n",
      "            '026f7a4f6fcf1ae8aa25e1227cb9b67aa462edc47e956d7d3d7dbe899e09484e4c',\n",
      "            '039dabdd38f7eb2eff0dd7d8fadac724fa7f0330d03c267c0a6a7958143c49babc',\n",
      "            3,\n",
      "            'OP_CHECKMULTISIG'],\n",
      " 'signatures': {'650c996274cf200a0845b97cd2b665031010198cbd58ba4842e5ea5251f6c238': [{'name': 'John',\n",
      "                                                                                      'signature': '3045022100e1a79736e05223af5b9d5aa53ef091bf30a829621a73b3c3c68fe18e80281e2702200fffe1b8596800511b1b2f84139f0c148965cd6d2cf5c9179d3fd7e03de2d93b01'},\n",
      "                                                                                     {'name': 'Bob',\n",
      "                                                                                      'signature': '304402206cecee069846f099f95645a26421193932347780cd9768e7409115917e2fe217022046a3d781e10355519a89e750f16cb1df01ce10a5be3e4c943db73c6054bcebdc01'}],\n",
      "                '6c310433485947f1278ccdbcdc19db7b60f094a3c87273140f25c9862c9e7f71': [{'name': 'John',\n",
      "                                                                                      'signature': '3045022100b2938a94cc2138cdaf23bd5dfb6fed2d7853a62791713c5ae3e8bd48e1a6b62f02203699e2ba404e6f7496dcdc062243830d33c0bae3a7c926651919f3fd80270aca01'},\n",
      "                                                                                     {'name': 'Bob',\n",
      "                                                                                      'signature': '3045022100cee831d6cf9bbf485b56977d51c334a357ba51c1095b7e3c3f47f6a2b739c20402204ac4c52961edfa1ef9e069181b7b74214fcc8f704c61bf4447d4f6d8676d867701'}],\n",
      "                '76d239530a434d69c037de5ad8dbab8564254105b98408f63bb4c82f777886d6': [{'name': 'John',\n",
      "                                                                                      'signature': '3045022100d0f121bdf635c83694dfbeca2d3f9f2abf372acf6494befae562ee275a6a3a1c022001e53fe3fae2928a2bcf477644ca39e17c5b2a1b69c3c6d841eb8b74b7c3ff4d01'},\n",
      "                                                                                     {'name': 'Bob',\n",
      "                                                                                      'signature': '30450221008da1faa1573feffc82bee0b50a092b01f65f7db5b388d9df526d5fa2813566a6022006a5b734cf27eceeaf61dee0d33ccac687e5aa2432b84a93819ab31edb9d988501'}]},\n",
      " 'signatures_required': 2,\n",
      " 'type': 'multisig_transaction',\n",
      " 'unsigned_transaction': '0200000003d68678772fc8b43bf60884b90541256485abdbd85ade37c0694d430a5339d2760100000000ffffffff38c2f65152eae54248ba58bd8c1910100365b6d27cb945080a20cf7462990c650100000000ffffffff717f9e2c86c9250f147372c8a394f0607bdb19dcbccd8c27f14759483304316c0100000000ffffffff0200fab459010000001976a914b1a8c68e4f90bd199c16841215a7b3b4e77aa21988ac405489000000000017a914a80a5ad975825e6ea42dbd841a26c753851810d58700000000'}\n"
     ]
    }
   ],
   "source": [
    "!python MultiSigBTC.py -o {path_multisig_2_3_transaction} sign_multisig_transaction {path_multisig_2_3_transaction} {path_john} \"pass\""
   ]
  },
  {
   "cell_type": "markdown",
   "metadata": {},
   "source": [
    "We have now enough keys to created a signed transaction. Please note that it doesn’t really make sense to sign the transaction also with Alice’s key.<br>\n",
    "MultiSigBTC is just keeping the signatures in the results and it will use just 2 out of 3 no matter if we provide 3 of them. Which 2 you ask?<br>\n",
    "The first two. Of course this is not the best solution because one of the first two might be invalid in which case it will create an invalid transaction no matter if the third one is fine.<br>\n",
    "This can be resolved by checking the validity of the signatures before use but let’s just say this part is work in progress :D"
   ]
  },
  {
   "cell_type": "markdown",
   "metadata": {},
   "source": [
    "### Let's produce the signed transaction and submit it to the network"
   ]
  },
  {
   "cell_type": "code",
   "execution_count": 24,
   "metadata": {
    "vscode": {
     "languageId": "bat"
    }
   },
   "outputs": [
    {
     "name": "stdout",
     "output_type": "stream",
     "text": [
      "0200000003d68678772fc8b43bf60884b90541256485abdbd85ade37c0694d430a5339d27601000000fdfe0000483045022100d0f121bdf635c83694dfbeca2d3f9f2abf372acf6494befae562ee275a6a3a1c022001e53fe3fae2928a2bcf477644ca39e17c5b2a1b69c3c6d841eb8b74b7c3ff4d014830450221008da1faa1573feffc82bee0b50a092b01f65f7db5b388d9df526d5fa2813566a6022006a5b734cf27eceeaf61dee0d33ccac687e5aa2432b84a93819ab31edb9d9885014c695221030a10de3e8ea718246cc79424d0f27fe7ec193e8949662a5cff75a23f49a6094c21026f7a4f6fcf1ae8aa25e1227cb9b67aa462edc47e956d7d3d7dbe899e09484e4c21039dabdd38f7eb2eff0dd7d8fadac724fa7f0330d03c267c0a6a7958143c49babc53aeffffffff38c2f65152eae54248ba58bd8c1910100365b6d27cb945080a20cf7462990c6501000000fdfd0000483045022100e1a79736e05223af5b9d5aa53ef091bf30a829621a73b3c3c68fe18e80281e2702200fffe1b8596800511b1b2f84139f0c148965cd6d2cf5c9179d3fd7e03de2d93b0147304402206cecee069846f099f95645a26421193932347780cd9768e7409115917e2fe217022046a3d781e10355519a89e750f16cb1df01ce10a5be3e4c943db73c6054bcebdc014c695221030a10de3e8ea718246cc79424d0f27fe7ec193e8949662a5cff75a23f49a6094c21026f7a4f6fcf1ae8aa25e1227cb9b67aa462edc47e956d7d3d7dbe899e09484e4c21039dabdd38f7eb2eff0dd7d8fadac724fa7f0330d03c267c0a6a7958143c49babc53aeffffffff717f9e2c86c9250f147372c8a394f0607bdb19dcbccd8c27f14759483304316c01000000fdfe0000483045022100b2938a94cc2138cdaf23bd5dfb6fed2d7853a62791713c5ae3e8bd48e1a6b62f02203699e2ba404e6f7496dcdc062243830d33c0bae3a7c926651919f3fd80270aca01483045022100cee831d6cf9bbf485b56977d51c334a357ba51c1095b7e3c3f47f6a2b739c20402204ac4c52961edfa1ef9e069181b7b74214fcc8f704c61bf4447d4f6d8676d8677014c695221030a10de3e8ea718246cc79424d0f27fe7ec193e8949662a5cff75a23f49a6094c21026f7a4f6fcf1ae8aa25e1227cb9b67aa462edc47e956d7d3d7dbe899e09484e4c21039dabdd38f7eb2eff0dd7d8fadac724fa7f0330d03c267c0a6a7958143c49babc53aeffffffff0200fab459010000001976a914b1a8c68e4f90bd199c16841215a7b3b4e77aa21988ac405489000000000017a914a80a5ad975825e6ea42dbd841a26c753851810d58700000000\n"
     ]
    }
   ],
   "source": [
    "!python MultiSigBTC.py -o {path_multisig_2_3_transaction} get_signed_multisig_transaction {path_multisig_2_3_transaction}"
   ]
  },
  {
   "cell_type": "code",
   "execution_count": 25,
   "metadata": {
    "vscode": {
     "languageId": "bat"
    }
   },
   "outputs": [
    {
     "name": "stdout",
     "output_type": "stream",
     "text": [
      "{'txid': ['18233a96afd0a34c75446fb9e54cc2dab0ed4c196457ae105e5b09e6fdd93398'],\n",
      " 'type': 'txid'}\n"
     ]
    }
   ],
   "source": [
    "!python MultiSigBTC.py -u \"admin\" -p \"admin\" send_transaction {path_multisig_2_3_transaction}"
   ]
  },
  {
   "cell_type": "markdown",
   "metadata": {},
   "source": [
    "**Success!** The transaction has been submitted! We will generate a block now so it can be included in the blockchain and check the new balances"
   ]
  },
  {
   "cell_type": "code",
   "execution_count": 26,
   "metadata": {
    "vscode": {
     "languageId": "bat"
    }
   },
   "outputs": [
    {
     "data": {
      "text/plain": [
       "'6c7c9440212a81504e7b661d8143f3e00ef53f449de731b9b8e7aadbfb2899f2'"
      ]
     },
     "execution_count": 26,
     "metadata": {},
     "output_type": "execute_result"
    }
   ],
   "source": [
    "result = !bitcoin-cli generatetoaddress 1 {miner}\n",
    "result = ''.join([str(elem) for elem in result]).replace(\"'\",'\"').replace(\"None\",'\"\"')\n",
    "result = json.loads(result)\n",
    "block = result[0]\n",
    "block"
   ]
  },
  {
   "cell_type": "code",
   "execution_count": 27,
   "metadata": {
    "vscode": {
     "languageId": "bat"
    }
   },
   "outputs": [
    {
     "name": "stdout",
     "output_type": "stream",
     "text": [
      "{\n",
      "  \"hash\": \"6c7c9440212a81504e7b661d8143f3e00ef53f449de731b9b8e7aadbfb2899f2\",\n",
      "  \"confirmations\": 1,\n",
      "  \"height\": 104,\n",
      "  \"version\": 536870912,\n",
      "  \"versionHex\": \"20000000\",\n",
      "  \"merkleroot\": \"3c4a488c53e14e8e1e363d4ade557a8526b5b0f996937c9c982fb35d1c1d1f30\",\n",
      "  \"time\": 1650129469,\n",
      "  \"mediantime\": 1650129444,\n",
      "  \"nonce\": 0,\n",
      "  \"bits\": \"207fffff\",\n",
      "  \"difficulty\": 4.656542373906925e-10,\n",
      "  \"chainwork\": \"00000000000000000000000000000000000000000000000000000000000000d2\",\n",
      "  \"nTx\": 2,\n",
      "  \"previousblockhash\": \"0186b9e0361a13aef92df40537a93efb86704fc6e6c0cbb93985457789786f23\",\n",
      "  \"strippedsize\": 1183,\n",
      "  \"size\": 1219,\n",
      "  \"weight\": 4768,\n",
      "  \"tx\": [\n",
      "    \"92f2634c56ffdb3ef4542b40b528a4c5f50be897c516dfeb506d2938a094a67b\",\n",
      "    \"18233a96afd0a34c75446fb9e54cc2dab0ed4c196457ae105e5b09e6fdd93398\"\n",
      "  ]\n",
      "}\n"
     ]
    }
   ],
   "source": [
    "!bitcoin-cli getblock {block}"
   ]
  },
  {
   "cell_type": "markdown",
   "metadata": {},
   "source": [
    "##### What is the balance of our multisig address now?"
   ]
  },
  {
   "cell_type": "code",
   "execution_count": 28,
   "metadata": {
    "vscode": {
     "languageId": "bat"
    }
   },
   "outputs": [
    {
     "name": "stdout",
     "output_type": "stream",
     "text": [
      "{'UTXOs': [{'amount': 1.0,\n",
      "            'txid': '143c86821894b07ef09f8bb1e78f6f32591889ecf6dce35294245fed05738cb8',\n",
      "            'vout': 0},\n",
      "           {'amount': 0.3,\n",
      "            'txid': 'c634a02a841e1f4ac40b2f425d9d1a68048e59ff6362c89981305230356e56b0',\n",
      "            'vout': 1},\n",
      "           {'amount': 0.09,\n",
      "            'txid': '18233a96afd0a34c75446fb9e54cc2dab0ed4c196457ae105e5b09e6fdd93398',\n",
      "            'vout': 1}],\n",
      " 'balance': 1.39,\n",
      " 'type': 'balance'}\n"
     ]
    }
   ],
   "source": [
    "!python MultiSigBTC.py -u \"admin\" -p \"admin\" get_address_balance {path_multisig_2_3}"
   ]
  },
  {
   "cell_type": "markdown",
   "metadata": {},
   "source": [
    "It seems correct! The funds have been subtracted from the balance"
   ]
  },
  {
   "cell_type": "markdown",
   "metadata": {},
   "source": [
    "##### And what about the balance on John's address we send the funds to?"
   ]
  },
  {
   "cell_type": "code",
   "execution_count": 29,
   "metadata": {
    "vscode": {
     "languageId": "bat"
    }
   },
   "outputs": [
    {
     "name": "stdout",
     "output_type": "stream",
     "text": [
      "{'UTXOs': [{'amount': 58.0,\n",
      "            'txid': '18233a96afd0a34c75446fb9e54cc2dab0ed4c196457ae105e5b09e6fdd93398',\n",
      "            'vout': 0}],\n",
      " 'balance': 58.0,\n",
      " 'type': 'balance'}\n"
     ]
    }
   ],
   "source": [
    "!python MultiSigBTC.py -u \"admin\" -p \"admin\" get_address_balance {john}"
   ]
  },
  {
   "cell_type": "markdown",
   "metadata": {},
   "source": [
    "Everything looks into place! **The test was a success!**"
   ]
  },
  {
   "cell_type": "markdown",
   "metadata": {},
   "source": [
    "## Create a 2 out of 2 multi signature address"
   ]
  },
  {
   "cell_type": "markdown",
   "metadata": {},
   "source": [
    "Now that we have some thing already up and working from our previous test, let's try to create another address that needs 3 out of the 4 owners to sign the transactions"
   ]
  },
  {
   "cell_type": "markdown",
   "metadata": {},
   "source": [
    "### Create the multi signature address"
   ]
  },
  {
   "cell_type": "code",
   "execution_count": 30,
   "metadata": {
    "vscode": {
     "languageId": "bat"
    }
   },
   "outputs": [
    {
     "data": {
      "text/plain": [
       "{'address': '2MwRcPStyKRCE2WEsDcuUB84nrzqkkodC2a',\n",
       " 'keys': [{'name': 'Maria',\n",
       "   'private': '',\n",
       "   'public': '02b6ec4ee5a73f82c69ac37cb27e8212cd0fef3e48768c7ca71ef3b82b344510bf'},\n",
       "  {'name': 'Bob',\n",
       "   'private': '',\n",
       "   'public': '026f7a4f6fcf1ae8aa25e1227cb9b67aa462edc47e956d7d3d7dbe899e09484e4c'}],\n",
       " 'script': [2,\n",
       "  '02b6ec4ee5a73f82c69ac37cb27e8212cd0fef3e48768c7ca71ef3b82b344510bf',\n",
       "  '026f7a4f6fcf1ae8aa25e1227cb9b67aa462edc47e956d7d3d7dbe899e09484e4c',\n",
       "  2,\n",
       "  'OP_CHECKMULTISIG'],\n",
       " 'signatures_required': 2,\n",
       " 'type': 'multisig_address'}"
      ]
     },
     "execution_count": 30,
     "metadata": {},
     "output_type": "execute_result"
    }
   ],
   "source": [
    "result = !python MultiSigBTC.py -o {path_multisig_2_2} create_multisig_address 2 {path_bob} {path_maria}\n",
    "#Store some values we will use later :\n",
    "result = ''.join([str(elem) for elem in result]).replace(\"'\",'\"').replace(\"None\",'\"\"')\n",
    "result = json.loads(result)\n",
    "multisig_2_2 = result['address']\n",
    "result"
   ]
  },
  {
   "cell_type": "markdown",
   "metadata": {},
   "source": [
    "### Send some funds to the newly created address"
   ]
  },
  {
   "cell_type": "code",
   "execution_count": 31,
   "metadata": {
    "vscode": {
     "languageId": "bat"
    }
   },
   "outputs": [
    {
     "name": "stdout",
     "output_type": "stream",
     "text": [
      "480ad4939a8b224245262b5b9b9e848f92e7a2d45fb511595b20dfbfb0d971ef\n"
     ]
    }
   ],
   "source": [
    "!bitcoin-cli sendtoaddress {multisig_2_2} 14"
   ]
  },
  {
   "cell_type": "code",
   "execution_count": 32,
   "metadata": {
    "vscode": {
     "languageId": "bat"
    }
   },
   "outputs": [
    {
     "name": "stdout",
     "output_type": "stream",
     "text": [
      "[\n",
      "  \"5f96f8953cd8658974fbd2248af9a202623c6c7541c28b822b942025d9096aed\"\n",
      "]\n"
     ]
    }
   ],
   "source": [
    "!bitcoin-cli generatetoaddress 1 {miner}"
   ]
  },
  {
   "cell_type": "code",
   "execution_count": 33,
   "metadata": {
    "vscode": {
     "languageId": "bat"
    }
   },
   "outputs": [
    {
     "name": "stdout",
     "output_type": "stream",
     "text": [
      "{'UTXOs': [{'amount': 14.0,\n",
      "            'txid': '480ad4939a8b224245262b5b9b9e848f92e7a2d45fb511595b20dfbfb0d971ef',\n",
      "            'vout': 0}],\n",
      " 'balance': 14.0,\n",
      " 'type': 'balance'}\n"
     ]
    }
   ],
   "source": [
    "!python MultiSigBTC.py -u \"admin\" -p \"admin\" get_address_balance {path_multisig_2_2}"
   ]
  },
  {
   "cell_type": "markdown",
   "metadata": {},
   "source": [
    "### We will now send some funds to the other multi signature address we created earlier"
   ]
  },
  {
   "cell_type": "markdown",
   "metadata": {},
   "source": [
    "##### Firstly let's try sending more funds than we have to see what happens"
   ]
  },
  {
   "cell_type": "code",
   "execution_count": 34,
   "metadata": {
    "vscode": {
     "languageId": "bat"
    }
   },
   "outputs": [
    {
     "name": "stdout",
     "output_type": "stream",
     "text": [
      "{'exception': {'message': 'Not enough funds. Total amount is 14.0',\n",
      "               'type': 'Exception'},\n",
      " 'trace': [{'line': 175, 'name': '<module>'},\n",
      "           {'line': 132, 'name': 'createMultisigTransaction'},\n",
      "           {'line': 100, 'name': 'createTransaction'}],\n",
      " 'type': 'exception'}\n"
     ]
    }
   ],
   "source": [
    "!python MultiSigBTC.py -u \"admin\" -p \"admin\" -o {path_multisig_2_2_transaction} create_multisig_transaction {path_multisig_2_3} 15 0.01 {path_multisig_2_2}"
   ]
  },
  {
   "cell_type": "markdown",
   "metadata": {},
   "source": [
    "Great! The script works as expected, it gets the balance and return an error when we try to send more than we can."
   ]
  },
  {
   "cell_type": "markdown",
   "metadata": {},
   "source": [
    "##### Now we create a valid transaction and we will try to spend the whole UTXO we have (meaning no UTXO returning funds to our address)"
   ]
  },
  {
   "cell_type": "code",
   "execution_count": 35,
   "metadata": {
    "vscode": {
     "languageId": "bat"
    }
   },
   "outputs": [
    {
     "name": "stdout",
     "output_type": "stream",
     "text": [
      "{'keys': [{'name': 'Maria',\n",
      "           'private': None,\n",
      "           'public': '02b6ec4ee5a73f82c69ac37cb27e8212cd0fef3e48768c7ca71ef3b82b344510bf'},\n",
      "          {'name': 'Bob',\n",
      "           'private': None,\n",
      "           'public': '026f7a4f6fcf1ae8aa25e1227cb9b67aa462edc47e956d7d3d7dbe899e09484e4c'}],\n",
      " 'script': [2,\n",
      "            '02b6ec4ee5a73f82c69ac37cb27e8212cd0fef3e48768c7ca71ef3b82b344510bf',\n",
      "            '026f7a4f6fcf1ae8aa25e1227cb9b67aa462edc47e956d7d3d7dbe899e09484e4c',\n",
      "            2,\n",
      "            'OP_CHECKMULTISIG'],\n",
      " 'signatures_required': 2,\n",
      " 'type': 'multisig_transaction',\n",
      " 'unsigned_transaction': '0200000001ef71d9b0bfdf205b5911b55fd4a2e7928f849e9b5b2b264542228b9a93d40a480000000000ffffffff01c00b63530000000017a914a80a5ad975825e6ea42dbd841a26c753851810d58700000000'}\n"
     ]
    }
   ],
   "source": [
    "!python MultiSigBTC.py -u \"admin\" -p \"admin\" -o {path_multisig_2_2_transaction} create_multisig_transaction {path_multisig_2_3} 13.99 0.01 {path_multisig_2_2}"
   ]
  },
  {
   "cell_type": "markdown",
   "metadata": {},
   "source": [
    "So far so good! :D"
   ]
  },
  {
   "cell_type": "markdown",
   "metadata": {},
   "source": [
    "### Now it's time to sign the transaction"
   ]
  },
  {
   "cell_type": "code",
   "execution_count": 36,
   "metadata": {
    "vscode": {
     "languageId": "bat"
    }
   },
   "outputs": [
    {
     "name": "stdout",
     "output_type": "stream",
     "text": [
      "{'keys': [{'name': 'Maria',\n",
      "           'private': None,\n",
      "           'public': '02b6ec4ee5a73f82c69ac37cb27e8212cd0fef3e48768c7ca71ef3b82b344510bf'},\n",
      "          {'name': 'Bob',\n",
      "           'private': None,\n",
      "           'public': '026f7a4f6fcf1ae8aa25e1227cb9b67aa462edc47e956d7d3d7dbe899e09484e4c'}],\n",
      " 'script': [2,\n",
      "            '02b6ec4ee5a73f82c69ac37cb27e8212cd0fef3e48768c7ca71ef3b82b344510bf',\n",
      "            '026f7a4f6fcf1ae8aa25e1227cb9b67aa462edc47e956d7d3d7dbe899e09484e4c',\n",
      "            2,\n",
      "            'OP_CHECKMULTISIG'],\n",
      " 'signatures': {'480ad4939a8b224245262b5b9b9e848f92e7a2d45fb511595b20dfbfb0d971ef': [{'name': 'Bob',\n",
      "                                                                                      'signature': '3045022100ea90a4f8d5de721c40e150a3b7e7d800a6c26d589f36b9e39cf0b87b76e0671e02207e259bfe46a3fd095be08f994e64ada824ea705f8b53ec3273b4ebe11ab3011001'}]},\n",
      " 'signatures_required': 2,\n",
      " 'type': 'multisig_transaction',\n",
      " 'unsigned_transaction': '0200000001ef71d9b0bfdf205b5911b55fd4a2e7928f849e9b5b2b264542228b9a93d40a480000000000ffffffff01c00b63530000000017a914a80a5ad975825e6ea42dbd841a26c753851810d58700000000'}\n"
     ]
    }
   ],
   "source": [
    "!python MultiSigBTC.py -o {path_multisig_2_2_transaction} sign_multisig_transaction {path_multisig_2_2_transaction} {path_bob} \"pass\""
   ]
  },
  {
   "cell_type": "code",
   "execution_count": 37,
   "metadata": {
    "vscode": {
     "languageId": "bat"
    }
   },
   "outputs": [
    {
     "name": "stdout",
     "output_type": "stream",
     "text": [
      "{'exception': {'message': 'Failed to decrypt the private key',\n",
      "               'type': 'Exception'},\n",
      " 'trace': [{'line': 184, 'name': '<module>'},\n",
      "           {'line': 203, 'name': 'signMultisigTransaction'},\n",
      "           {'line': 251, 'name': 'getPrivateKey'}],\n",
      " 'type': 'exception'}\n"
     ]
    }
   ],
   "source": [
    "!python MultiSigBTC.py -o {path_multisig_2_2_transaction} sign_multisig_transaction {path_multisig_2_2_transaction} {path_maria} \"passs\""
   ]
  },
  {
   "cell_type": "markdown",
   "metadata": {},
   "source": [
    "Ops, wrong password... Did I do it on purpose? Maybe :D"
   ]
  },
  {
   "cell_type": "code",
   "execution_count": 38,
   "metadata": {
    "vscode": {
     "languageId": "bat"
    }
   },
   "outputs": [
    {
     "name": "stdout",
     "output_type": "stream",
     "text": [
      "{'keys': [{'name': 'Maria',\n",
      "           'private': None,\n",
      "           'public': '02b6ec4ee5a73f82c69ac37cb27e8212cd0fef3e48768c7ca71ef3b82b344510bf'},\n",
      "          {'name': 'Bob',\n",
      "           'private': None,\n",
      "           'public': '026f7a4f6fcf1ae8aa25e1227cb9b67aa462edc47e956d7d3d7dbe899e09484e4c'}],\n",
      " 'script': [2,\n",
      "            '02b6ec4ee5a73f82c69ac37cb27e8212cd0fef3e48768c7ca71ef3b82b344510bf',\n",
      "            '026f7a4f6fcf1ae8aa25e1227cb9b67aa462edc47e956d7d3d7dbe899e09484e4c',\n",
      "            2,\n",
      "            'OP_CHECKMULTISIG'],\n",
      " 'signatures': {'480ad4939a8b224245262b5b9b9e848f92e7a2d45fb511595b20dfbfb0d971ef': [{'name': 'Maria',\n",
      "                                                                                      'signature': '30440220079365165c913b6241a5fa558cdfc9aaab84b1903f4aa569dc2ed83bbad1eaad02205e5e6247532e84e9923f28d3ff37bd58ed7889e52961729bffeec1c02d1dae0401'},\n",
      "                                                                                     {'name': 'Bob',\n",
      "                                                                                      'signature': '3045022100ea90a4f8d5de721c40e150a3b7e7d800a6c26d589f36b9e39cf0b87b76e0671e02207e259bfe46a3fd095be08f994e64ada824ea705f8b53ec3273b4ebe11ab3011001'}]},\n",
      " 'signatures_required': 2,\n",
      " 'type': 'multisig_transaction',\n",
      " 'unsigned_transaction': '0200000001ef71d9b0bfdf205b5911b55fd4a2e7928f849e9b5b2b264542228b9a93d40a480000000000ffffffff01c00b63530000000017a914a80a5ad975825e6ea42dbd841a26c753851810d58700000000'}\n"
     ]
    }
   ],
   "source": [
    "!python MultiSigBTC.py -o {path_multisig_2_2_transaction} sign_multisig_transaction {path_multisig_2_2_transaction} {path_maria} \"pass\""
   ]
  },
  {
   "cell_type": "markdown",
   "metadata": {},
   "source": [
    "### Finally let's send the transaction and check the balances"
   ]
  },
  {
   "cell_type": "code",
   "execution_count": 39,
   "metadata": {
    "vscode": {
     "languageId": "bat"
    }
   },
   "outputs": [
    {
     "data": {
      "text/plain": [
       "'0200000001ef71d9b0bfdf205b5911b55fd4a2e7928f849e9b5b2b264542228b9a93d40a4800000000da004730440220079365165c913b6241a5fa558cdfc9aaab84b1903f4aa569dc2ed83bbad1eaad02205e5e6247532e84e9923f28d3ff37bd58ed7889e52961729bffeec1c02d1dae0401483045022100ea90a4f8d5de721c40e150a3b7e7d800a6c26d589f36b9e39cf0b87b76e0671e02207e259bfe46a3fd095be08f994e64ada824ea705f8b53ec3273b4ebe11ab301100147522102b6ec4ee5a73f82c69ac37cb27e8212cd0fef3e48768c7ca71ef3b82b344510bf21026f7a4f6fcf1ae8aa25e1227cb9b67aa462edc47e956d7d3d7dbe899e09484e4c52aeffffffff01c00b63530000000017a914a80a5ad975825e6ea42dbd841a26c753851810d58700000000'"
      ]
     },
     "execution_count": 39,
     "metadata": {},
     "output_type": "execute_result"
    }
   ],
   "source": [
    "tx = !python MultiSigBTC.py get_signed_multisig_transaction {path_multisig_2_2_transaction}\n",
    "tx[0]"
   ]
  },
  {
   "cell_type": "code",
   "execution_count": 40,
   "metadata": {
    "vscode": {
     "languageId": "bat"
    }
   },
   "outputs": [
    {
     "name": "stdout",
     "output_type": "stream",
     "text": [
      "{'txid': ['d439b6bf04da0f851eecc53e45708f17d3ffb383613305bd52d55f2f31fd1041'],\n",
      " 'type': 'txid'}\n"
     ]
    }
   ],
   "source": [
    "!python MultiSigBTC.py -u \"admin\" -p \"admin\" send_transaction {tx[0]}"
   ]
  },
  {
   "cell_type": "markdown",
   "metadata": {},
   "source": [
    "Perfect the transaction has gone through!"
   ]
  },
  {
   "cell_type": "markdown",
   "metadata": {},
   "source": [
    "### Let's put the transaction in a block and check the new balances"
   ]
  },
  {
   "cell_type": "code",
   "execution_count": 41,
   "metadata": {
    "vscode": {
     "languageId": "bat"
    }
   },
   "outputs": [
    {
     "name": "stdout",
     "output_type": "stream",
     "text": [
      "[\n",
      "  \"64eb2c994bcca1751dad34f6bbb0ec8f866e10bc811cbe40e589f86e08696e45\"\n",
      "]\n"
     ]
    }
   ],
   "source": [
    "!bitcoin-cli generatetoaddress 1 {miner}"
   ]
  },
  {
   "cell_type": "code",
   "execution_count": 42,
   "metadata": {
    "vscode": {
     "languageId": "bat"
    }
   },
   "outputs": [
    {
     "name": "stdout",
     "output_type": "stream",
     "text": [
      "{'balance': 0.0, 'type': 'balance'}\n"
     ]
    }
   ],
   "source": [
    "!python MultiSigBTC.py -u \"admin\" -p \"admin\" get_address_balance {path_multisig_2_2}"
   ]
  },
  {
   "cell_type": "code",
   "execution_count": 68,
   "metadata": {
    "vscode": {
     "languageId": "bat"
    }
   },
   "outputs": [
    {
     "name": "stdout",
     "output_type": "stream",
     "text": [
      "{'UTXOs': [{'amount': 13.99,\n",
      "            'txid': 'd439b6bf04da0f851eecc53e45708f17d3ffb383613305bd52d55f2f31fd1041',\n",
      "            'vout': 0},\n",
      "           {'amount': 1.0,\n",
      "            'txid': '143c86821894b07ef09f8bb1e78f6f32591889ecf6dce35294245fed05738cb8',\n",
      "            'vout': 0},\n",
      "           {'amount': 0.3,\n",
      "            'txid': 'c634a02a841e1f4ac40b2f425d9d1a68048e59ff6362c89981305230356e56b0',\n",
      "            'vout': 1},\n",
      "           {'amount': 0.09,\n",
      "            'txid': '18233a96afd0a34c75446fb9e54cc2dab0ed4c196457ae105e5b09e6fdd93398',\n",
      "            'vout': 1}],\n",
      " 'balance': 15.38,\n",
      " 'type': 'balance'}\n"
     ]
    }
   ],
   "source": [
    "!python MultiSigBTC.py -u \"admin\" -p \"admin\" get_address_balance {path_multisig_2_3}"
   ]
  },
  {
   "cell_type": "code",
   "execution_count": 74,
   "metadata": {
    "vscode": {
     "languageId": "bat"
    }
   },
   "outputs": [
    {
     "name": "stdout",
     "output_type": "stream",
     "text": [
      "{'exception': {'message': \"Invalid paramater '{path_multisig_2_3}'\",\n",
      "               'type': 'Exception'},\n",
      " 'trace': [{'line': 175, 'name': '<module>'},\n",
      "           {'line': 121, 'name': 'createMultisigTransaction'}],\n",
      " 'type': 'exception'}\n"
     ]
    }
   ],
   "source": [
    "!python MultiSigBTC.py -u \"admin\" -p \"admin\" -o {path_multisig_2_3_transaction_2} create_multisig_transaction {multisig_2_2} 10 0.024 {path_multisig_2_3}"
   ]
  },
  {
   "cell_type": "markdown",
   "metadata": {},
   "source": [
    "Great! Everything looks into place!"
   ]
  },
  {
   "cell_type": "markdown",
   "metadata": {},
   "source": [
    "## Try to send a transaction with wrong signatures"
   ]
  },
  {
   "cell_type": "markdown",
   "metadata": {},
   "source": [
    "Ok now let's try to send some funds from the 2 out of 3 multi signature address to the 2 out of 2 multi signature address"
   ]
  },
  {
   "cell_type": "markdown",
   "metadata": {},
   "source": [
    "### Let's create the transaction"
   ]
  },
  {
   "cell_type": "code",
   "execution_count": 77,
   "metadata": {
    "vscode": {
     "languageId": "bat"
    }
   },
   "outputs": [
    {
     "name": "stdout",
     "output_type": "stream",
     "text": [
      "{'keys': [{'name': 'John',\n",
      "           'private': None,\n",
      "           'public': '030a10de3e8ea718246cc79424d0f27fe7ec193e8949662a5cff75a23f49a6094c'},\n",
      "          {'name': 'Bob',\n",
      "           'private': None,\n",
      "           'public': '026f7a4f6fcf1ae8aa25e1227cb9b67aa462edc47e956d7d3d7dbe899e09484e4c'},\n",
      "          {'name': 'Alice',\n",
      "           'private': None,\n",
      "           'public': '039dabdd38f7eb2eff0dd7d8fadac724fa7f0330d03c267c0a6a7958143c49babc'}],\n",
      " 'script': [2,\n",
      "            '030a10de3e8ea718246cc79424d0f27fe7ec193e8949662a5cff75a23f49a6094c',\n",
      "            '026f7a4f6fcf1ae8aa25e1227cb9b67aa462edc47e956d7d3d7dbe899e09484e4c',\n",
      "            '039dabdd38f7eb2eff0dd7d8fadac724fa7f0330d03c267c0a6a7958143c49babc',\n",
      "            3,\n",
      "            'OP_CHECKMULTISIG'],\n",
      " 'signatures_required': 2,\n",
      " 'type': 'multisig_transaction',\n",
      " 'unsigned_transaction': '02000000014110fd312f5fd552bd05336183b3ffd3178f70453ec5ec1e850fda04bfb639d40000000000ffffffff0200ca9a3b0000000017a9142dd75c5da3f50cfc6bb64cc815a5fab072d5cdce87c0a2a3170000000017a914a80a5ad975825e6ea42dbd841a26c753851810d58700000000'}\n"
     ]
    }
   ],
   "source": [
    "!python MultiSigBTC.py -u \"admin\" -p \"admin\" -o {path_multisig_2_3_transact_2} create_multisig_transaction {multisig_2_2} 10 0.024 {path_multisig_2_3}"
   ]
  },
  {
   "cell_type": "markdown",
   "metadata": {},
   "source": [
    "### And now sign it"
   ]
  },
  {
   "cell_type": "code",
   "execution_count": 80,
   "metadata": {
    "vscode": {
     "languageId": "bat"
    }
   },
   "outputs": [
    {
     "name": "stdout",
     "output_type": "stream",
     "text": [
      "{'keys': [{'name': 'John',\n",
      "           'private': None,\n",
      "           'public': '030a10de3e8ea718246cc79424d0f27fe7ec193e8949662a5cff75a23f49a6094c'},\n",
      "          {'name': 'Bob',\n",
      "           'private': None,\n",
      "           'public': '026f7a4f6fcf1ae8aa25e1227cb9b67aa462edc47e956d7d3d7dbe899e09484e4c'},\n",
      "          {'name': 'Alice',\n",
      "           'private': None,\n",
      "           'public': '039dabdd38f7eb2eff0dd7d8fadac724fa7f0330d03c267c0a6a7958143c49babc'}],\n",
      " 'script': [2,\n",
      "            '030a10de3e8ea718246cc79424d0f27fe7ec193e8949662a5cff75a23f49a6094c',\n",
      "            '026f7a4f6fcf1ae8aa25e1227cb9b67aa462edc47e956d7d3d7dbe899e09484e4c',\n",
      "            '039dabdd38f7eb2eff0dd7d8fadac724fa7f0330d03c267c0a6a7958143c49babc',\n",
      "            3,\n",
      "            'OP_CHECKMULTISIG'],\n",
      " 'signatures': {'d439b6bf04da0f851eecc53e45708f17d3ffb383613305bd52d55f2f31fd1041': [{'name': 'John',\n",
      "                                                                                      'signature': '304402200a645819438883caac15ef8eb37bcee7580a64d5a95dfa8dd548a1f1042d08340220636fc49855ef2510d8e4c77581b27704363b5cf10192a929f3b5f1c845501bb601'}]},\n",
      " 'signatures_required': 2,\n",
      " 'type': 'multisig_transaction',\n",
      " 'unsigned_transaction': '02000000014110fd312f5fd552bd05336183b3ffd3178f70453ec5ec1e850fda04bfb639d40000000000ffffffff0200ca9a3b0000000017a9142dd75c5da3f50cfc6bb64cc815a5fab072d5cdce87c0a2a3170000000017a914a80a5ad975825e6ea42dbd841a26c753851810d58700000000'}\n"
     ]
    }
   ],
   "source": [
    "!python MultiSigBTC.py -o {path_multisig_2_3_transact_2} sign_multisig_transaction {path_multisig_2_3_transact_2} {path_john} \"pass\""
   ]
  },
  {
   "cell_type": "markdown",
   "metadata": {},
   "source": [
    "And now we will try to sign with Maria's keys who is not part of the multi signature address"
   ]
  },
  {
   "cell_type": "code",
   "execution_count": 82,
   "metadata": {
    "vscode": {
     "languageId": "bat"
    }
   },
   "outputs": [
    {
     "name": "stdout",
     "output_type": "stream",
     "text": [
      "{'keys': [{'name': 'John',\n",
      "           'private': None,\n",
      "           'public': '030a10de3e8ea718246cc79424d0f27fe7ec193e8949662a5cff75a23f49a6094c'},\n",
      "          {'name': 'Bob',\n",
      "           'private': None,\n",
      "           'public': '026f7a4f6fcf1ae8aa25e1227cb9b67aa462edc47e956d7d3d7dbe899e09484e4c'},\n",
      "          {'name': 'Alice',\n",
      "           'private': None,\n",
      "           'public': '039dabdd38f7eb2eff0dd7d8fadac724fa7f0330d03c267c0a6a7958143c49babc'}],\n",
      " 'script': [2,\n",
      "            '030a10de3e8ea718246cc79424d0f27fe7ec193e8949662a5cff75a23f49a6094c',\n",
      "            '026f7a4f6fcf1ae8aa25e1227cb9b67aa462edc47e956d7d3d7dbe899e09484e4c',\n",
      "            '039dabdd38f7eb2eff0dd7d8fadac724fa7f0330d03c267c0a6a7958143c49babc',\n",
      "            3,\n",
      "            'OP_CHECKMULTISIG'],\n",
      " 'signatures': {'d439b6bf04da0f851eecc53e45708f17d3ffb383613305bd52d55f2f31fd1041': [{'name': 'Maria',\n",
      "                                                                                      'signature': '3045022100f9ae4e5e3f086297aa63a27ff348b47b6f252d9a33e89d12f7dd6d8ea8ddc27202207f9ed30394b126707872b8956f630e1bdb712c453bbd58be4541e269a458c10101'},\n",
      "                                                                                     {'name': 'John',\n",
      "                                                                                      'signature': '304402200a645819438883caac15ef8eb37bcee7580a64d5a95dfa8dd548a1f1042d08340220636fc49855ef2510d8e4c77581b27704363b5cf10192a929f3b5f1c845501bb601'}]},\n",
      " 'signatures_required': 2,\n",
      " 'type': 'multisig_transaction',\n",
      " 'unsigned_transaction': '02000000014110fd312f5fd552bd05336183b3ffd3178f70453ec5ec1e850fda04bfb639d40000000000ffffffff0200ca9a3b0000000017a9142dd75c5da3f50cfc6bb64cc815a5fab072d5cdce87c0a2a3170000000017a914a80a5ad975825e6ea42dbd841a26c753851810d58700000000'}\n"
     ]
    }
   ],
   "source": [
    "!python MultiSigBTC.py -o {path_multisig_2_3_transact_2} sign_multisig_transaction {path_multisig_2_3_transact_2} {path_maria} \"pass\""
   ]
  },
  {
   "cell_type": "markdown",
   "metadata": {},
   "source": [
    "### We are now ready to send it to the network and see what happens"
   ]
  },
  {
   "cell_type": "code",
   "execution_count": 85,
   "metadata": {
    "vscode": {
     "languageId": "bat"
    }
   },
   "outputs": [
    {
     "name": "stdout",
     "output_type": "stream",
     "text": [
      "02000000014110fd312f5fd552bd05336183b3ffd3178f70453ec5ec1e850fda04bfb639d400000000fdfd0000483045022100f9ae4e5e3f086297aa63a27ff348b47b6f252d9a33e89d12f7dd6d8ea8ddc27202207f9ed30394b126707872b8956f630e1bdb712c453bbd58be4541e269a458c1010147304402200a645819438883caac15ef8eb37bcee7580a64d5a95dfa8dd548a1f1042d08340220636fc49855ef2510d8e4c77581b27704363b5cf10192a929f3b5f1c845501bb6014c695221030a10de3e8ea718246cc79424d0f27fe7ec193e8949662a5cff75a23f49a6094c21026f7a4f6fcf1ae8aa25e1227cb9b67aa462edc47e956d7d3d7dbe899e09484e4c21039dabdd38f7eb2eff0dd7d8fadac724fa7f0330d03c267c0a6a7958143c49babc53aeffffffff0200ca9a3b0000000017a9142dd75c5da3f50cfc6bb64cc815a5fab072d5cdce87c0a2a3170000000017a914a80a5ad975825e6ea42dbd841a26c753851810d58700000000\n"
     ]
    }
   ],
   "source": [
    "!python MultiSigBTC.py -u \"admin\" -p \"admin\" -o {path_multisig_2_3_transact_2} get_signed_multisig_transaction {path_multisig_2_3_transact_2}"
   ]
  },
  {
   "cell_type": "code",
   "execution_count": 86,
   "metadata": {
    "vscode": {
     "languageId": "bat"
    }
   },
   "outputs": [
    {
     "name": "stdout",
     "output_type": "stream",
     "text": [
      "{'exception': {'message': '-26: mandatory-script-verify-flag-failed (Signature '\n",
      "                          'must be zero for failed CHECK(MULTI)SIG operation)',\n",
      "               'type': 'JSONRPCException'},\n",
      " 'trace': [{'line': 206, 'name': '<module>'},\n",
      "           {'line': 237, 'name': 'sendTransaction'},\n",
      "           {'line': 203, 'name': 'sendTransaction'},\n",
      "           {'line': 170, 'name': 'batch_'}],\n",
      " 'type': 'exception'}\n"
     ]
    }
   ],
   "source": [
    "!python MultiSigBTC.py -u \"admin\" -p \"admin\" send_transaction {path_multisig_2_3_transact_2}"
   ]
  },
  {
   "cell_type": "markdown",
   "metadata": {},
   "source": [
    "As expected the transaction failed to be submited to the blockchain because the script contains an invalid signature. So all good!"
   ]
  },
  {
   "cell_type": "markdown",
   "metadata": {},
   "source": [
    "### Let's try to create again the transaction and sign it correctly"
   ]
  },
  {
   "cell_type": "code",
   "execution_count": 87,
   "metadata": {
    "vscode": {
     "languageId": "bat"
    }
   },
   "outputs": [
    {
     "name": "stdout",
     "output_type": "stream",
     "text": [
      "{'keys': [{'name': 'John',\n",
      "           'private': None,\n",
      "           'public': '030a10de3e8ea718246cc79424d0f27fe7ec193e8949662a5cff75a23f49a6094c'},\n",
      "          {'name': 'Bob',\n",
      "           'private': None,\n",
      "           'public': '026f7a4f6fcf1ae8aa25e1227cb9b67aa462edc47e956d7d3d7dbe899e09484e4c'},\n",
      "          {'name': 'Alice',\n",
      "           'private': None,\n",
      "           'public': '039dabdd38f7eb2eff0dd7d8fadac724fa7f0330d03c267c0a6a7958143c49babc'}],\n",
      " 'script': [2,\n",
      "            '030a10de3e8ea718246cc79424d0f27fe7ec193e8949662a5cff75a23f49a6094c',\n",
      "            '026f7a4f6fcf1ae8aa25e1227cb9b67aa462edc47e956d7d3d7dbe899e09484e4c',\n",
      "            '039dabdd38f7eb2eff0dd7d8fadac724fa7f0330d03c267c0a6a7958143c49babc',\n",
      "            3,\n",
      "            'OP_CHECKMULTISIG'],\n",
      " 'signatures_required': 2,\n",
      " 'type': 'multisig_transaction',\n",
      " 'unsigned_transaction': '02000000014110fd312f5fd552bd05336183b3ffd3178f70453ec5ec1e850fda04bfb639d40000000000ffffffff0200ca9a3b0000000017a9142dd75c5da3f50cfc6bb64cc815a5fab072d5cdce87c0a2a3170000000017a914a80a5ad975825e6ea42dbd841a26c753851810d58700000000'}\n"
     ]
    }
   ],
   "source": [
    "!python MultiSigBTC.py -u \"admin\" -p \"admin\" -o {path_multisig_2_3_transact_2} create_multisig_transaction {multisig_2_2} 10 0.024 {path_multisig_2_3}"
   ]
  },
  {
   "cell_type": "code",
   "execution_count": 88,
   "metadata": {
    "vscode": {
     "languageId": "bat"
    }
   },
   "outputs": [
    {
     "name": "stdout",
     "output_type": "stream",
     "text": [
      "{'keys': [{'name': 'John',\n",
      "           'private': None,\n",
      "           'public': '030a10de3e8ea718246cc79424d0f27fe7ec193e8949662a5cff75a23f49a6094c'},\n",
      "          {'name': 'Bob',\n",
      "           'private': None,\n",
      "           'public': '026f7a4f6fcf1ae8aa25e1227cb9b67aa462edc47e956d7d3d7dbe899e09484e4c'},\n",
      "          {'name': 'Alice',\n",
      "           'private': None,\n",
      "           'public': '039dabdd38f7eb2eff0dd7d8fadac724fa7f0330d03c267c0a6a7958143c49babc'}],\n",
      " 'script': [2,\n",
      "            '030a10de3e8ea718246cc79424d0f27fe7ec193e8949662a5cff75a23f49a6094c',\n",
      "            '026f7a4f6fcf1ae8aa25e1227cb9b67aa462edc47e956d7d3d7dbe899e09484e4c',\n",
      "            '039dabdd38f7eb2eff0dd7d8fadac724fa7f0330d03c267c0a6a7958143c49babc',\n",
      "            3,\n",
      "            'OP_CHECKMULTISIG'],\n",
      " 'signatures': {'d439b6bf04da0f851eecc53e45708f17d3ffb383613305bd52d55f2f31fd1041': [{'name': 'Alice',\n",
      "                                                                                      'signature': '304402200ff5376ea2b90123e4c95619a86f4f9936b9e1fd78cb8769587c027f87d2456f02207bb5333573baac1acf818a860346b3061bed00f15a06eb0bde1aabb1835ffee701'}]},\n",
      " 'signatures_required': 2,\n",
      " 'type': 'multisig_transaction',\n",
      " 'unsigned_transaction': '02000000014110fd312f5fd552bd05336183b3ffd3178f70453ec5ec1e850fda04bfb639d40000000000ffffffff0200ca9a3b0000000017a9142dd75c5da3f50cfc6bb64cc815a5fab072d5cdce87c0a2a3170000000017a914a80a5ad975825e6ea42dbd841a26c753851810d58700000000'}\n"
     ]
    }
   ],
   "source": [
    "!python MultiSigBTC.py -o {path_multisig_2_3_transact_2} sign_multisig_transaction {path_multisig_2_3_transact_2} {path_alice} \"pass\""
   ]
  },
  {
   "cell_type": "code",
   "execution_count": 89,
   "metadata": {
    "vscode": {
     "languageId": "bat"
    }
   },
   "outputs": [
    {
     "name": "stdout",
     "output_type": "stream",
     "text": [
      "{'keys': [{'name': 'John',\n",
      "           'private': None,\n",
      "           'public': '030a10de3e8ea718246cc79424d0f27fe7ec193e8949662a5cff75a23f49a6094c'},\n",
      "          {'name': 'Bob',\n",
      "           'private': None,\n",
      "           'public': '026f7a4f6fcf1ae8aa25e1227cb9b67aa462edc47e956d7d3d7dbe899e09484e4c'},\n",
      "          {'name': 'Alice',\n",
      "           'private': None,\n",
      "           'public': '039dabdd38f7eb2eff0dd7d8fadac724fa7f0330d03c267c0a6a7958143c49babc'}],\n",
      " 'script': [2,\n",
      "            '030a10de3e8ea718246cc79424d0f27fe7ec193e8949662a5cff75a23f49a6094c',\n",
      "            '026f7a4f6fcf1ae8aa25e1227cb9b67aa462edc47e956d7d3d7dbe899e09484e4c',\n",
      "            '039dabdd38f7eb2eff0dd7d8fadac724fa7f0330d03c267c0a6a7958143c49babc',\n",
      "            3,\n",
      "            'OP_CHECKMULTISIG'],\n",
      " 'signatures': {'d439b6bf04da0f851eecc53e45708f17d3ffb383613305bd52d55f2f31fd1041': [{'name': 'Bob',\n",
      "                                                                                      'signature': '3044022077be47a98b69487b3563a08ba523d1dabe5b464f1ab523383788946a4a018d000220699be5aae8f4ea16fae671f8881d386a8a3ce0c52497a479bcc5103646667e5b01'},\n",
      "                                                                                     {'name': 'Alice',\n",
      "                                                                                      'signature': '304402200ff5376ea2b90123e4c95619a86f4f9936b9e1fd78cb8769587c027f87d2456f02207bb5333573baac1acf818a860346b3061bed00f15a06eb0bde1aabb1835ffee701'}]},\n",
      " 'signatures_required': 2,\n",
      " 'type': 'multisig_transaction',\n",
      " 'unsigned_transaction': '02000000014110fd312f5fd552bd05336183b3ffd3178f70453ec5ec1e850fda04bfb639d40000000000ffffffff0200ca9a3b0000000017a9142dd75c5da3f50cfc6bb64cc815a5fab072d5cdce87c0a2a3170000000017a914a80a5ad975825e6ea42dbd841a26c753851810d58700000000'}\n"
     ]
    }
   ],
   "source": [
    "!python MultiSigBTC.py -o {path_multisig_2_3_transact_2} sign_multisig_transaction {path_multisig_2_3_transact_2} {path_bob} \"pass\""
   ]
  },
  {
   "cell_type": "code",
   "execution_count": 90,
   "metadata": {
    "vscode": {
     "languageId": "bat"
    }
   },
   "outputs": [
    {
     "name": "stdout",
     "output_type": "stream",
     "text": [
      "02000000014110fd312f5fd552bd05336183b3ffd3178f70453ec5ec1e850fda04bfb639d400000000fc00473044022077be47a98b69487b3563a08ba523d1dabe5b464f1ab523383788946a4a018d000220699be5aae8f4ea16fae671f8881d386a8a3ce0c52497a479bcc5103646667e5b0147304402200ff5376ea2b90123e4c95619a86f4f9936b9e1fd78cb8769587c027f87d2456f02207bb5333573baac1acf818a860346b3061bed00f15a06eb0bde1aabb1835ffee7014c695221030a10de3e8ea718246cc79424d0f27fe7ec193e8949662a5cff75a23f49a6094c21026f7a4f6fcf1ae8aa25e1227cb9b67aa462edc47e956d7d3d7dbe899e09484e4c21039dabdd38f7eb2eff0dd7d8fadac724fa7f0330d03c267c0a6a7958143c49babc53aeffffffff0200ca9a3b0000000017a9142dd75c5da3f50cfc6bb64cc815a5fab072d5cdce87c0a2a3170000000017a914a80a5ad975825e6ea42dbd841a26c753851810d58700000000\n"
     ]
    }
   ],
   "source": [
    "!python MultiSigBTC.py -u \"admin\" -p \"admin\" -o {path_multisig_2_3_transact_2} get_signed_multisig_transaction {path_multisig_2_3_transact_2}"
   ]
  },
  {
   "cell_type": "code",
   "execution_count": 91,
   "metadata": {
    "vscode": {
     "languageId": "bat"
    }
   },
   "outputs": [
    {
     "name": "stdout",
     "output_type": "stream",
     "text": [
      "{'txid': ['0bcccf63811557ffe9de76a2a4270126d4777fec23c7af624ca89046b87c6468'],\n",
      " 'type': 'txid'}\n"
     ]
    }
   ],
   "source": [
    "!python MultiSigBTC.py -u \"admin\" -p \"admin\" send_transaction {path_multisig_2_3_transact_2}"
   ]
  },
  {
   "cell_type": "code",
   "execution_count": 92,
   "metadata": {
    "vscode": {
     "languageId": "bat"
    }
   },
   "outputs": [
    {
     "name": "stdout",
     "output_type": "stream",
     "text": [
      "[\n",
      "  \"025bc1085081b7be690ae788ce850501b73ed6b669e2f72b696e556c481e376b\"\n",
      "]\n"
     ]
    }
   ],
   "source": [
    "!bitcoin-cli generatetoaddress 1 {miner}"
   ]
  },
  {
   "cell_type": "code",
   "execution_count": 93,
   "metadata": {
    "vscode": {
     "languageId": "bat"
    }
   },
   "outputs": [
    {
     "name": "stdout",
     "output_type": "stream",
     "text": [
      "{'UTXOs': [{'amount': 10.0,\n",
      "            'txid': '0bcccf63811557ffe9de76a2a4270126d4777fec23c7af624ca89046b87c6468',\n",
      "            'vout': 0}],\n",
      " 'balance': 10.0,\n",
      " 'type': 'balance'}\n"
     ]
    }
   ],
   "source": [
    "!python MultiSigBTC.py -u \"admin\" -p \"admin\" get_address_balance {multisig_2_2}"
   ]
  },
  {
   "cell_type": "code",
   "execution_count": 94,
   "metadata": {
    "vscode": {
     "languageId": "bat"
    }
   },
   "outputs": [
    {
     "name": "stdout",
     "output_type": "stream",
     "text": [
      "{'UTXOs': [{'amount': 3.966,\n",
      "            'txid': '0bcccf63811557ffe9de76a2a4270126d4777fec23c7af624ca89046b87c6468',\n",
      "            'vout': 1},\n",
      "           {'amount': 1.0,\n",
      "            'txid': '143c86821894b07ef09f8bb1e78f6f32591889ecf6dce35294245fed05738cb8',\n",
      "            'vout': 0},\n",
      "           {'amount': 0.3,\n",
      "            'txid': 'c634a02a841e1f4ac40b2f425d9d1a68048e59ff6362c89981305230356e56b0',\n",
      "            'vout': 1},\n",
      "           {'amount': 0.09,\n",
      "            'txid': '18233a96afd0a34c75446fb9e54cc2dab0ed4c196457ae105e5b09e6fdd93398',\n",
      "            'vout': 1}],\n",
      " 'balance': 5.356,\n",
      " 'type': 'balance'}\n"
     ]
    }
   ],
   "source": [
    "!python MultiSigBTC.py -u \"admin\" -p \"admin\" get_address_balance {multisig_2_3}"
   ]
  },
  {
   "cell_type": "markdown",
   "metadata": {},
   "source": [
    "**Perfect!** The test concludes here! :)"
   ]
  },
  {
   "cell_type": "markdown",
   "metadata": {},
   "source": []
  }
 ],
 "metadata": {
  "interpreter": {
   "hash": "0600588c3b5f4418cbe7b5ebc6825b479f3bc010269d8b60d75058cdd010adfe"
  },
  "kernelspec": {
   "display_name": "Python 3.7.4 64-bit",
   "language": "python",
   "name": "python3"
  },
  "language_info": {
   "codemirror_mode": {
    "name": "ipython",
    "version": 3
   },
   "file_extension": ".py",
   "mimetype": "text/x-python",
   "name": "python",
   "nbconvert_exporter": "python",
   "pygments_lexer": "ipython3",
   "version": "3.7.4"
  },
  "orig_nbformat": 4
 },
 "nbformat": 4,
 "nbformat_minor": 2
}
